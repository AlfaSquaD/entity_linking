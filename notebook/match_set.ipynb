{
 "cells": [
  {
   "cell_type": "code",
   "execution_count": 14,
   "id": "d2425bd3",
   "metadata": {},
   "outputs": [],
   "source": [
    "# TODO: Add usda food ids to table\n",
    "# Imports.\n",
    "import pandas as pd\n",
    "import csv\n",
    "import re\n",
    "import ast\n",
    "import math\n",
    "import numpy as np\n",
    "from collections import Counter\n",
    "from tqdm import tqdm\n",
    "from multiprocessing import Pool, cpu_count"
   ]
  },
  {
   "cell_type": "code",
   "execution_count": 2,
   "id": "a7101c3e",
   "metadata": {},
   "outputs": [
    {
     "name": "stdout",
     "output_type": "stream",
     "text": [
      "Length of USDA portions dataset: 32614\n",
      "\n",
      "Lenght of recipes dataset: 30925\n",
      "\n"
     ]
    }
   ],
   "source": [
    "# Get datasets.\n",
    "grams = pd.read_csv(\"../data/grams.csv\")\n",
    "print(\"Length of USDA portions dataset:\", len(grams))\n",
    "print(\"\")\n",
    "\n",
    "ingr = pd.read_csv(\"../data/ingr.csv\")\n",
    "print(\"Lenght of recipes dataset:\", len(ingr))\n",
    "print(\"\")"
   ]
  },
  {
   "cell_type": "code",
   "execution_count": 3,
   "id": "44ea9984",
   "metadata": {},
   "outputs": [],
   "source": [
    "# Formatted food items from ingredients dataset will be appended to this list.\n",
    "ts = []\n",
    "\n",
    "# Food items in the USDA portions dataset will be appended to this list.\n",
    "comp = []\n",
    "\n",
    "def _ingr_list_parser(x):\n",
    "    if \"with\" not in x:\n",
    "        return ast.literal_eval(x)\n",
    "\n",
    "# This while loop iterates through ingredients dataset and formats each food item to resemble the formatting on the USDA dataset.\n",
    "# Formatted items are appended to ts list.\n",
    "ts = ingr.food.apply(_ingr_list_parser).tolist()\n",
    "\n",
    "ts = [np.array(item) for item in ts if item is not None]\n",
    "\n",
    "ts = np.hstack(ts)\n",
    "\n",
    "\n",
    "ts = [item for item in ts if type(item) is str]\n",
    "\n",
    "# Duplicate food items are removed.\n",
    "ts = list(set(ts))\n",
    "\n",
    "\n",
    "# This loop iterates through the USDA portions dataset and appends each food item to comp list.\n",
    "for element in grams.Main_Food_Description:\n",
    "    comp.append(element)\n",
    "\n",
    "# Duplicate food items are removed.\n",
    "comp = list(set(comp))"
   ]
  },
  {
   "cell_type": "code",
   "execution_count": 4,
   "id": "8bc19190",
   "metadata": {},
   "outputs": [],
   "source": [
    "# A regex pattern is set to be used in text to vector function.\n",
    "WORD = re.compile(r\"\\w+\")\n",
    "\n",
    "# This function turns inputted text to vector by counting individual words in it.\n",
    "def text_to_vector(text):\n",
    "    words = WORD.findall(text)\n",
    "    return Counter(words)"
   ]
  },
  {
   "cell_type": "code",
   "execution_count": 5,
   "id": "fac0d9c1",
   "metadata": {},
   "outputs": [],
   "source": [
    "# This function gives the cosine similarity score between two vectors.\n",
    "def get_cosine(vec1, vec2):\n",
    "    intersection = set(vec1.keys()) & set(vec2.keys())\n",
    "    numerator = sum([vec1[x] * vec2[x] for x in intersection])\n",
    "\n",
    "    sum1 = sum([vec1[x] ** 2 for x in list(vec1.keys())])\n",
    "    sum2 = sum([vec2[x] ** 2 for x in list(vec2.keys())])\n",
    "    denominator = math.sqrt(sum1) * math.sqrt(sum2)\n",
    "\n",
    "    if not denominator:\n",
    "        return 0.0\n",
    "    else:\n",
    "        return float(numerator) / denominator"
   ]
  },
  {
   "cell_type": "code",
   "execution_count": 6,
   "id": "16b02e41",
   "metadata": {},
   "outputs": [],
   "source": [
    "# Get the most similar usda food name for given food name\n",
    "def get_cosine_list(foodName):\n",
    "    maxScore = 0\n",
    "    maxScore_usda = \"\"\n",
    "    for usda in comp:\n",
    "        cosine = get_cosine(text_to_vector(foodName), text_to_vector(usda))\n",
    "        if cosine > maxScore:\n",
    "            maxScore = cosine\n",
    "            maxScore_usda = usda\n",
    "    return {\n",
    "        \"Ingr\": foodName,\n",
    "        \"Match\": maxScore_usda,\n",
    "        \"Score\": maxScore\n",
    "    }\n"
   ]
  },
  {
   "cell_type": "code",
   "execution_count": 7,
   "id": "7e0bb519",
   "metadata": {},
   "outputs": [
    {
     "name": "stderr",
     "output_type": "stream",
     "text": [
      "100%|██████████| 18322/18322 [07:52<00:00, 38.75it/s]\n"
     ]
    }
   ],
   "source": [
    "pool = Pool(processes=cpu_count())\n",
    "results = []\n",
    "for result in tqdm(pool.imap_unordered(get_cosine_list, ts), total=len(ts)):\n",
    "    results.append(result)"
   ]
  },
  {
   "cell_type": "code",
   "execution_count": 9,
   "id": "7dddaa1d",
   "metadata": {},
   "outputs": [
    {
     "data": {
      "text/html": [
       "<div>\n",
       "<style scoped>\n",
       "    .dataframe tbody tr th:only-of-type {\n",
       "        vertical-align: middle;\n",
       "    }\n",
       "\n",
       "    .dataframe tbody tr th {\n",
       "        vertical-align: top;\n",
       "    }\n",
       "\n",
       "    .dataframe thead th {\n",
       "        text-align: right;\n",
       "    }\n",
       "</style>\n",
       "<table border=\"1\" class=\"dataframe\">\n",
       "  <thead>\n",
       "    <tr style=\"text-align: right;\">\n",
       "      <th></th>\n",
       "      <th>Ingr</th>\n",
       "      <th>Match</th>\n",
       "      <th>Score</th>\n",
       "    </tr>\n",
       "  </thead>\n",
       "  <tbody>\n",
       "    <tr>\n",
       "      <th>0</th>\n",
       "      <td>Lemons</td>\n",
       "      <td></td>\n",
       "      <td>0.000000</td>\n",
       "    </tr>\n",
       "    <tr>\n",
       "      <th>1</th>\n",
       "      <td>taleggio cheese</td>\n",
       "      <td>cheese, processed cheese food</td>\n",
       "      <td>0.577350</td>\n",
       "    </tr>\n",
       "    <tr>\n",
       "      <th>2</th>\n",
       "      <td>beef filets</td>\n",
       "      <td>beef jerky</td>\n",
       "      <td>0.500000</td>\n",
       "    </tr>\n",
       "    <tr>\n",
       "      <th>3</th>\n",
       "      <td>rapid-rise yeast</td>\n",
       "      <td>yeast</td>\n",
       "      <td>0.577350</td>\n",
       "    </tr>\n",
       "    <tr>\n",
       "      <th>4</th>\n",
       "      <td>Crab boil</td>\n",
       "      <td></td>\n",
       "      <td>0.000000</td>\n",
       "    </tr>\n",
       "    <tr>\n",
       "      <th>...</th>\n",
       "      <td>...</td>\n",
       "      <td>...</td>\n",
       "      <td>...</td>\n",
       "    </tr>\n",
       "    <tr>\n",
       "      <th>18317</th>\n",
       "      <td>peppermint patties</td>\n",
       "      <td>double hamburger, from fast food, 2 medium pat...</td>\n",
       "      <td>0.250000</td>\n",
       "    </tr>\n",
       "    <tr>\n",
       "      <th>18318</th>\n",
       "      <td>whitewine vinegar</td>\n",
       "      <td>vinegar</td>\n",
       "      <td>0.707107</td>\n",
       "    </tr>\n",
       "    <tr>\n",
       "      <th>18319</th>\n",
       "      <td>seaweed snacks</td>\n",
       "      <td>seaweed soup</td>\n",
       "      <td>0.500000</td>\n",
       "    </tr>\n",
       "    <tr>\n",
       "      <th>18320</th>\n",
       "      <td>mushroom or cheese tortelloni</td>\n",
       "      <td>cheese, blue or roquefort</td>\n",
       "      <td>0.500000</td>\n",
       "    </tr>\n",
       "    <tr>\n",
       "      <th>18321</th>\n",
       "      <td>Monterey Jack Cheese</td>\n",
       "      <td></td>\n",
       "      <td>0.000000</td>\n",
       "    </tr>\n",
       "  </tbody>\n",
       "</table>\n",
       "<p>18322 rows × 3 columns</p>\n",
       "</div>"
      ],
      "text/plain": [
       "                                Ingr  \\\n",
       "0                             Lemons   \n",
       "1                    taleggio cheese   \n",
       "2                        beef filets   \n",
       "3                   rapid-rise yeast   \n",
       "4                          Crab boil   \n",
       "...                              ...   \n",
       "18317             peppermint patties   \n",
       "18318              whitewine vinegar   \n",
       "18319                 seaweed snacks   \n",
       "18320  mushroom or cheese tortelloni   \n",
       "18321           Monterey Jack Cheese   \n",
       "\n",
       "                                                   Match     Score  \n",
       "0                                                         0.000000  \n",
       "1                          cheese, processed cheese food  0.577350  \n",
       "2                                             beef jerky  0.500000  \n",
       "3                                                  yeast  0.577350  \n",
       "4                                                         0.000000  \n",
       "...                                                  ...       ...  \n",
       "18317  double hamburger, from fast food, 2 medium pat...  0.250000  \n",
       "18318                                            vinegar  0.707107  \n",
       "18319                                       seaweed soup  0.500000  \n",
       "18320                          cheese, blue or roquefort  0.500000  \n",
       "18321                                                     0.000000  \n",
       "\n",
       "[18322 rows x 3 columns]"
      ]
     },
     "execution_count": 9,
     "metadata": {},
     "output_type": "execute_result"
    }
   ],
   "source": [
    "linked_df = pd.DataFrame(results)\n",
    "linked_df"
   ]
  },
  {
   "cell_type": "code",
   "execution_count": 10,
   "id": "21444fff",
   "metadata": {},
   "outputs": [],
   "source": [
    "linked_df.to_csv(\"../data/linked_df.csv\", index=False)"
   ]
  },
  {
   "cell_type": "code",
   "execution_count": 13,
   "id": "1f53b657",
   "metadata": {},
   "outputs": [],
   "source": [
    "linked_df.drop(linked_df[linked_df.Match == \"\"].index,).to_csv(\"../data/linked_df_dropped.csv\", index=False)"
   ]
  }
 ],
 "metadata": {
  "kernelspec": {
   "display_name": "Python 3.10.4 64-bit",
   "language": "python",
   "name": "python3"
  },
  "language_info": {
   "codemirror_mode": {
    "name": "ipython",
    "version": 3
   },
   "file_extension": ".py",
   "mimetype": "text/x-python",
   "name": "python",
   "nbconvert_exporter": "python",
   "pygments_lexer": "ipython3",
   "version": "3.10.4"
  },
  "vscode": {
   "interpreter": {
    "hash": "916dbcbb3f70747c44a77c7bcd40155683ae19c65e1c03b4aa3499c5328201f1"
   }
  }
 },
 "nbformat": 4,
 "nbformat_minor": 5
}
